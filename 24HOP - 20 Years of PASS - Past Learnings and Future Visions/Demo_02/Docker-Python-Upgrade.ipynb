{
    "metadata": {
        "kernelspec": {
            "name": "SQL",
            "display_name": "SQL",
            "language": "sql"
        },
        "language_info": {
            "name": "sql",
            "version": ""
        }
    },
    "nbformat_minor": 2,
    "nbformat": 4,
    "cells": [
        {
            "cell_type": "markdown",
            "source": [
                "# [DBA Mastery](http://google.com)\n",
                "> **Just another witchcraft and wizardry site and DBA tips …**\n",
                "\n",
                "# Upgrading a SQL Server docker container using Python\n",
                "\n",
                "This notebook uses the Docker Python API to manage SQL Server container created in Docker, in this demo I will be upgrading a SQL Server instance from SQL Server 2017 CU13 to CU14.\n",
                "\n",
                "These are the steps:\n",
                "\n",
                "- 1- Checking SQL Server images in MCR **(optional)**  \n",
                "    (1a) **Ubuntu based images**  \n",
                "    (1b) **RHEL based images** \n",
                "- 2- Pull images **(optional)**\n",
                "- 3- Check images **(optional)**\n",
                "- 4- Create CU13 container (with volume)\n",
                "- 5- Check container status\n",
                "- 6- Connect to CU13 and get version\n",
                "- 7- Restore WWI database from backup\n",
                "- 8- Stop and upgrade CU13 to CU14\n",
                "- 9- Check SQL Server errorlog\n",
                "- 10- Connect to CU14 and get version"
            ],
            "metadata": {
                "azdata_cell_guid": "9793589c-1856-4246-8864-0481d796bc04"
            }
        },
        {
            "cell_type": "markdown",
            "source": [
                "# 1a- Checking SQL Server images in MCR - Ubuntu (Python)\n",
                "\n",
                ""
            ],
            "metadata": {
                "azdata_cell_guid": "1446eb05-d486-4594-b231-a8a894960cd5"
            }
        },
        {
            "cell_type": "code",
            "source": [
                "\n",
                "# Importing HTTP requests library\n",
                "import requests\n",
                "\n",
                "# Listing available images at MCR for Ubuntu\n",
                "ubuntu_mcr_images = requests.get('https://mcr.microsoft.com/v2/mssql/server/tags/list/')\n",
                "\n",
                "# Displaying HTTP GET results\n",
                "print ('Ubuntu based images:')\n",
                "ubuntu_mcr_images.json()"
            ],
            "metadata": {
                "azdata_cell_guid": "ede90c67-b330-41d6-a532-31b7d06e77a6"
            },
            "outputs": [
                {
                    "name": "stdout",
                    "text": "Ubuntu based images:\n",
                    "output_type": "stream"
                },
                {
                    "data": {
                        "text/plain": "{'name': 'mssql/server',\n 'tags': ['2017-CU1-ubuntu',\n  '2017-CU10',\n  '2017-CU10-ubuntu',\n  '2017-CU11',\n  '2017-CU11-ubuntu',\n  '2017-CU12',\n  '2017-CU12-ubuntu',\n  '2017-CU13',\n  '2017-CU13-ubuntu',\n  '2017-CU14',\n  '2017-CU14-ubuntu',\n  '2017-CU15',\n  '2017-CU15-GDR',\n  '2017-CU15-GDR-ubuntu',\n  '2017-CU15-ubuntu',\n  '2017-CU16',\n  '2017-CU16-ubuntu',\n  '2017-CU17',\n  '2017-CU17-ubuntu',\n  '2017-CU18-ubuntu-16.04',\n  '2017-CU2-ubuntu',\n  '2017-CU3-ubuntu',\n  '2017-CU4-ubuntu',\n  '2017-CU5-ubuntu',\n  '2017-CU6-ubuntu',\n  '2017-CU7-ubuntu',\n  '2017-CU8-ubuntu',\n  '2017-CU9-ubuntu',\n  '2017-GA-ubuntu',\n  '2017-GDR-ubuntu',\n  '2017-GDR3',\n  '2017-GDR3-ubuntu',\n  '2017-cu16',\n  '2017-cu16-ubuntu',\n  '2017-cu17',\n  '2017-cu17-ubuntu',\n  '2017-latest',\n  '2017-latest-ubuntu',\n  '2018-CTP20',\n  '2018-CTP20-ubuntu',\n  '2019-CTP2.0',\n  '2019-CTP2.0-ubuntu',\n  '2019-CTP2.1',\n  '2019-CTP2.1-ubuntu',\n  '2019-CTP2.2',\n  '2019-CTP2.2-ubuntu',\n  '2019-CTP2.3',\n  '2019-CTP2.3-ubuntu',\n  '2019-CTP2.4',\n  '2019-CTP2.4-ubuntu',\n  '2019-CTP2.5',\n  '2019-CTP2.5-ubuntu',\n  '2019-CTP3.0',\n  '2019-CTP3.0-ubuntu',\n  '2019-CTP3.1',\n  '2019-CTP3.1-ubuntu',\n  '2019-CTP3.2',\n  '2019-CTP3.2-ubuntu',\n  '2019-GA-ubuntu-16.04',\n  '2019-GDR1-ubuntu-16.04',\n  '2019-RC1',\n  '2019-RC1-ubuntu',\n  '2019-latest',\n  'latest',\n  'latest-ubuntu',\n  'vNext-CTP2.0-ubuntu']}"
                    },
                    "metadata": {},
                    "execution_count": 1,
                    "output_type": "execute_result"
                }
            ],
            "execution_count": 1
        },
        {
            "cell_type": "markdown",
            "source": [
                "# 1b- Checking SQL Server images in MCR - RHEL (Python)"
            ],
            "metadata": {
                "azdata_cell_guid": "acf7e704-5a15-492f-8b5e-9f08f4144686"
            }
        },
        {
            "cell_type": "code",
            "source": [
                "\n",
                "# Importing HTTP requests library\n",
                "import requests\n",
                "\n",
                "# Listing available images at MCR for RHEL\n",
                "rhel_mcr_images = requests.get('https://mcr.microsoft.com/v2/mssql/rhel/server/tags/list/')\n",
                "\n",
                "# Displaying HTTP GET results\n",
                "print ('RHEL based images:')\n",
                "rhel_mcr_images.json()"
            ],
            "metadata": {
                "azdata_cell_guid": "bc9980af-230c-4534-903d-71b2107c47d4"
            },
            "outputs": [
                {
                    "name": "stdout",
                    "text": "RHEL based images:\n",
                    "output_type": "stream"
                },
                {
                    "data": {
                        "text/plain": "{'name': 'mssql/rhel/server',\n 'tags': ['2019-CTP2.0',\n  '2019-CTP2.1',\n  '2019-CTP2.2',\n  '2019-CTP2.3',\n  '2019-CTP2.4',\n  '2019-CTP2.5',\n  '2019-CTP3.0',\n  '2019-CTP3.1',\n  '2019-CTP3.2',\n  '2019-GA-rhel-7.0',\n  '2019-GA-rhel-7.6',\n  '2019-GDR1-rhel-7.0',\n  '2019-GDR1-rhel-7.6',\n  '2019-RC1',\n  '2019-latest',\n  'latest',\n  'vNext-CTP2.0']}"
                    },
                    "metadata": {},
                    "execution_count": 2,
                    "output_type": "execute_result"
                }
            ],
            "execution_count": 2
        },
        {
            "cell_type": "markdown",
            "source": [
                "# 2- Pull images (Python)"
            ],
            "metadata": {
                "azdata_cell_guid": "09622cd4-4e13-40f7-b23f-56ba951f8b32"
            }
        },
        {
            "cell_type": "code",
            "source": [
                "# Importing docker library\n",
                "import docker\n",
                "client = docker.from_env()\n",
                "\n",
                "client.images.pull('mcr.microsoft.com/mssql/server:2017-CU13-ubuntu')\n",
                "print ('The SQL Server 2017 - Ubuntu CU13 image has been pulled')\n",
                "client.images.pull('mcr.microsoft.com/mssql/server:2017-CU14-ubuntu')\n",
                "print ('The SQL Server 2017 - Ubuntu CU14 image has been pulled')"
            ],
            "metadata": {
                "azdata_cell_guid": "510b4450-3ef3-484b-a261-6a4536b4f267"
            },
            "outputs": [],
            "execution_count": 2
        },
        {
            "cell_type": "markdown",
            "source": [
                "# 3- Check images (Python)"
            ],
            "metadata": {
                "azdata_cell_guid": "06ff28dd-a970-443d-ba59-d83fae9748d5"
            }
        },
        {
            "cell_type": "code",
            "source": [
                "\n",
                "# Listing local images (Docker cache)\n",
                "client.images.list()\n",
                ""
            ],
            "metadata": {
                "azdata_cell_guid": "4662f768-2963-4f83-b3fb-59bc5f9118e1"
            },
            "outputs": [],
            "execution_count": 2
        },
        {
            "cell_type": "markdown",
            "source": [
                "# 4- Create CU13 container (Python)"
            ],
            "metadata": {
                "azdata_cell_guid": "d608eeb4-deac-45d3-997e-ea2ed2b2b2a0"
            }
        },
        {
            "cell_type": "code",
            "source": [
                "# Checking if existing \\ Cleaning up\n",
                "try:\n",
                "        container = client.containers.get('PythonSQL_CU13')\n",
                "        container.stop()\n",
                "        container.remove()\n",
                "        print ('The existing PythonSQL_CU13 container was removed ...')\n",
                "except:\n",
                "        print (\"The PythonSQL_CU13 container does not exists ...\")\n",
                "\n",
                "# Creating Python_CU13 container\n",
                "client.containers.run(\n",
                "        'mcr.microsoft.com/mssql/server:2017-CU13-ubuntu',\n",
                "        detach=True,\n",
                "        name=\"PythonSQL_CU13\",\n",
                "        hostname=\"PythonSQL_CU13\",\n",
                "        environment={\"ACCEPT_EULA\":\"Y\",\"MSSQL_SA_PASSWORD\":\"P1th0nR0ck$!\"},\n",
                "        volumes= \n",
                "        {'vlm_VersionUpgrade': {'bind': '/var/opt/mssql', 'mode': 'rw'},\n",
                "        '/Users/carlos/Documents/DBA Mastery/Shared': {'bind': '/Shared', 'mode': 'rw'}},\n",
                "        ports={'1433/tcp': 1401}\n",
                ")\n",
                "print (\"The PythonSQL_CU13 container was succesfully created\")"
            ],
            "metadata": {
                "azdata_cell_guid": "ee77e097-1f1b-4c90-a4a0-de12a5a0a090"
            },
            "outputs": [],
            "execution_count": 3
        },
        {
            "cell_type": "markdown",
            "source": [
                "# 5- Check container status (Python)"
            ],
            "metadata": {
                "azdata_cell_guid": "63235033-1ef6-479a-bb56-924748f49efe"
            }
        },
        {
            "cell_type": "code",
            "source": [
                "# Importing docker library\n",
                "import docker\n",
                "\n",
                "# Setting context to my container\n",
                "container = client.containers.get('PythonSQL_CU13')\n",
                "\n",
                "# Checking status of PythonSQL container\n",
                "print ('My container: ' + container.name + ' is in ' + container.status + ' state.')\n",
                "\n",
                "# Checking status of all containers\n",
                "client.containers.list(all=True, filters={\"status\":\"running\"})"
            ],
            "metadata": {
                "azdata_cell_guid": "ccc81354-6918-4235-8a51-c325fd239f4e"
            },
            "outputs": [],
            "execution_count": 3
        },
        {
            "cell_type": "markdown",
            "source": [
                "# 6- Connect to CU13 and get version (SQL)"
            ],
            "metadata": {
                "azdata_cell_guid": "4ac3b7b0-a607-49c8-9355-d3776d1b10d4"
            }
        },
        {
            "cell_type": "code",
            "source": [
                "-- Checking SQL Server instance information\n",
                "-- 14.0.3048.4 = CU13\n",
                "-- 14.0.3076.1 = CU14\n",
                "SELECT\n",
                "    SERVERPROPERTY('MachineName') AS [Computer Name],\n",
                "    SERVERPROPERTY('ServerName') AS [Instance Name],\n",
                "    SERVERPROPERTY('ProductVersion') AS [Product Version],\n",
                "    SERVERPROPERTY('ProductUpdateLevel') AS [CU],\n",
                "    RIGHT(@@version, LEN(@@version)- 3 -charindex (' ON ', @@VERSION)) [OS Version],\n",
                "    SERVERPROPERTY ('Edition') AS [Edition]\n",
                "FROM sys.dm_os_sys_info;"
            ],
            "metadata": {
                "azdata_cell_guid": "8cb98b9f-1e16-4259-9682-355c4621c00d"
            },
            "outputs": [],
            "execution_count": 1
        },
        {
            "cell_type": "markdown",
            "source": [
                "# 7- Restore WWI database from backup (SQL)"
            ],
            "metadata": {
                "azdata_cell_guid": "bf27c6d2-9aea-4397-bf85-d732b5cba286"
            }
        },
        {
            "cell_type": "code",
            "source": [
                "-- Checking existing databases\n",
                "SELECT name FROM sys.databases;\n",
                "\n",
                "-- Restore WWI backup\n",
                "RESTORE DATABASE WWI FROM DISK = '/Shared/wwi.bak' WITH\n",
                "MOVE 'WWI_Primary' TO '/var/opt/mssql/data/WideWorldImporters.mdf',\n",
                "MOVE 'WWI_UserData' TO '/var/opt/mssql/data/WideWorldImporters_userdata.ndf',\n",
                "MOVE 'WWI_Log' TO '/var/opt/mssql/data/WideWorldImporters.ldf', \n",
                "MOVE 'WWI_InMemory_Data_1' TO '/var/opt/mssql/data/WideWorldImporters_InMemory_Data_1';\n",
                "\n",
                "-- Looking for WWI database\n",
                "SELECT name FROM sys.databases;"
            ],
            "metadata": {
                "azdata_cell_guid": "48b1ca22-4448-44c4-bd36-ccb7de4d4c54"
            },
            "outputs": [],
            "execution_count": 2
        },
        {
            "cell_type": "markdown",
            "source": [
                "# 8- Stop and upgrade CU13 to CU14 (Python)"
            ],
            "metadata": {
                "azdata_cell_guid": "ab463809-5799-4e76-beac-f35074802d24"
            }
        },
        {
            "cell_type": "code",
            "source": [
                "# Importing docker library\n",
                "import docker\n",
                "client = docker.from_env()\n",
                "\n",
                "# Setting context to my container\n",
                "container = client.containers.get('PythonSQL_CU13')\n",
                "\n",
                "# Stopping PythonSQL\n",
                "container.stop()\n",
                "\n",
                "# Creating Python_CU14 container (upgrade)\n",
                "client.containers.run(\n",
                "        'mcr.microsoft.com/mssql/server:2017-CU14-ubuntu',\n",
                "        detach=True,\n",
                "        name=\"PythonSQL_CU14\",\n",
                "        hostname=\"PythonSQL_CU14\",\n",
                "        environment={\"ACCEPT_EULA\":\"Y\",\"MSSQL_SA_PASSWORD\":\"P1th0nR0ck$!\"},\n",
                "        volumes= \n",
                "        {'vlm_VersionUpgrade': {'bind': '/var/opt/mssql', 'mode': 'rw'},\n",
                "        '/Users/carlos/Documents/DBA Mastery/Shared': {'bind': '/Shared', 'mode': 'rw'}},\n",
                "        ports={'1433/tcp': 1401}\n",
                ")\n",
                "print (\"The PythonSQL_CU14 container was succesfully created\")"
            ],
            "metadata": {
                "azdata_cell_guid": "a8e801e5-1e93-4c0e-a6c9-3f1d4766fef5"
            },
            "outputs": [],
            "execution_count": 1
        },
        {
            "cell_type": "markdown",
            "source": [
                "# 9- Check SQL Server errorlog (Python)"
            ],
            "metadata": {
                "azdata_cell_guid": "8cad9f4f-6062-4829-8947-b78c9dad8fb1"
            }
        },
        {
            "cell_type": "code",
            "source": [
                "# Setting context to my container\n",
                "container = client.containers.get('PythonSQL_CU14')\n",
                "\n",
                "# Checking the log\n",
                "for line in container.logs(stream=True):\n",
                "    print (line.strip())\n",
                ""
            ],
            "metadata": {
                "azdata_cell_guid": "94552e8b-753d-4d8a-8219-febf2c337ac3"
            },
            "outputs": [],
            "execution_count": 2
        },
        {
            "cell_type": "markdown",
            "source": [
                "# 10- Connect to CU14 and get version (SQL)"
            ],
            "metadata": {
                "azdata_cell_guid": "544783f7-8f74-4c87-9313-6027106da2cb"
            }
        },
        {
            "cell_type": "code",
            "source": [
                "-- Checking SQL Server instance information\n",
                "-- 14.0.3048.4 = CU13\n",
                "-- 14.0.3076.1 = CU14\n",
                "SELECT\n",
                "    SERVERPROPERTY('MachineName') AS [Computer Name],\n",
                "    SERVERPROPERTY('ServerNameA') AS [Instance Name],\n",
                "    SERVERPROPERTY('ProductVersion') AS [Product Version],\n",
                "    SERVERPROPERTY('ProductUpdateLevel') AS [CU],\n",
                "    RIGHT(@@version, LEN(@@version)- 3 -charindex (' ON ', @@VERSION)) [OS Version],\n",
                "    SERVERPROPERTY ('Edition') AS [Edition];\n",
                "\n",
                "-- Looking for WWI database\n",
                "SELECT name FROM sys.databases;"
            ],
            "metadata": {
                "azdata_cell_guid": "d6606072-99de-4d3e-9b12-4d8293f64211"
            },
            "outputs": [],
            "execution_count": 3
        },
        {
            "cell_type": "markdown",
            "source": [
                "# Questions or comments?\n",
                "\n",
                ">In case you want to know more about how to use this notebook, feel free to contact me:\n",
                "\n",
                "- Twitter:    [@dbamastery](https://twitter.com/dbamastery)  \n",
                "- GitHub:    [dbamaster](https://github.com/dbamaster)  \n",
                "- Email:       <crobles@dbamastery.com> \n",
                "- Blog:        http://dbamastery.com\n",
                ""
            ],
            "metadata": {
                "azdata_cell_guid": "2642d278-cf34-44e5-a323-af0b8bac5197"
            }
        }
    ]
}