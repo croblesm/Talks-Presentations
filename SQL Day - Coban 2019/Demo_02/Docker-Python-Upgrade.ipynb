{
    "metadata": {
        "kernelspec": {
            "name": "SQL",
            "display_name": "SQL",
            "language": "sql"
        },
        "language_info": {
            "name": "sql",
            "version": ""
        }
    },
    "nbformat_minor": 2,
    "nbformat": 4,
    "cells": [
        {
            "cell_type": "markdown",
            "source": "# [DBA Mastery](http://google.com)\n> **Just another witchcraft and wizardry site and DBA tips …**\n\n# Upgrading a SQL Server docker container using Python\n\nThis notebook uses the Docker Python API to manage SQL Server container created in Docker, in this demo I will be upgrading a SQL Server instance from SQL Server 2017 CU13 to CU14.\n\nThese are the steps:\n\n- 1- Checking SQL Server images in MCR **(optional)**  \n    (1a) **Ubuntu based images**  \n    (1b) **RHEL based images** \n- 2- Pull images **(optional)**\n- 3- Check images **(optional)**\n- 4- Create CU13 container (with volume)\n- 5- Check container status\n- 6- Connect to CU13 and get version\n- 7- Restore WWI database from backup\n- 8- Stop and upgrade CU13 to CU14\n- 9- Check SQL Server errorlog\n- 10- Connect to CU14 and get version",
            "metadata": {}
        },
        {
            "cell_type": "markdown",
            "source": "# 1a- Checking SQL Server images in MCR - Ubuntu (Python)\n\n",
            "metadata": {}
        },
        {
            "cell_type": "code",
            "source": "\n# Importing HTTP requests library\nimport requests\n\n# Listing available images at MCR for Ubuntu\nubuntu_mcr_images = requests.get('https://mcr.microsoft.com/v2/mssql/server/tags/list/')\n\n# Displaying HTTP GET results\nprint ('Ubuntu based images:')\nubuntu_mcr_images.json()",
            "metadata": {},
            "outputs": [],
            "execution_count": 1
        },
        {
            "cell_type": "markdown",
            "source": "# 1b- Checking SQL Server images in MCR - RHEL (Python)",
            "metadata": {}
        },
        {
            "cell_type": "code",
            "source": "\n# Importing HTTP requests library\nimport requests\n\n# Listing available images at MCR for RHEL\nrhel_mcr_images = requests.get('https://mcr.microsoft.com/v2/mssql/rhel/server/tags/list/')\n\n# Displaying HTTP GET results\nprint ('RHEL based images:')\nrhel_mcr_images.json()",
            "metadata": {},
            "outputs": [],
            "execution_count": 7
        },
        {
            "cell_type": "markdown",
            "source": "# 2- Pull images (Python)",
            "metadata": {}
        },
        {
            "cell_type": "code",
            "source": "# Importing docker library\nimport docker\nclient = docker.from_env()\n\nclient.images.pull('mcr.microsoft.com/mssql/server:2017-CU13-ubuntu')\nprint ('The SQL Server 2017 - Ubuntu CU13 image has been pulled')\nclient.images.pull('mcr.microsoft.com/mssql/server:2017-CU14-ubuntu')\nprint ('The SQL Server 2017 - Ubuntu CU14 image has been pulled')",
            "metadata": {},
            "outputs": [],
            "execution_count": 2
        },
        {
            "cell_type": "markdown",
            "source": "# 3- Check images (Python)",
            "metadata": {}
        },
        {
            "cell_type": "code",
            "source": "\n# Listing local images (Docker cache)\nclient.images.list()\n",
            "metadata": {},
            "outputs": [],
            "execution_count": 2
        },
        {
            "cell_type": "markdown",
            "source": "# 4- Create CU13 container (Python)",
            "metadata": {}
        },
        {
            "cell_type": "code",
            "source": "# Checking if existing \\ Cleaning up\ntry:\n        container = client.containers.get('PythonSQL_CU13')\n        container.stop()\n        container.remove()\n        print ('The existing PythonSQL_CU13 container was removed ...')\nexcept:\n        print (\"The PythonSQL_CU13 container does not exists ...\")\n\n# Creating Python_CU13 container\nclient.containers.run(\n        'mcr.microsoft.com/mssql/server:2017-CU13-ubuntu',\n        detach=True,\n        name=\"PythonSQL_CU13\",\n        hostname=\"PythonSQL_CU13\",\n        environment={\"ACCEPT_EULA\":\"Y\",\"MSSQL_SA_PASSWORD\":\"P1th0nR0ck$!\"},\n        volumes= \n        {'vlm_VersionUpgrade': {'bind': '/var/opt/mssql', 'mode': 'rw'},\n        '/Users/carlos/Documents/DBA Mastery/Shared': {'bind': '/Shared', 'mode': 'rw'}},\n        ports={'1433/tcp': 1401}\n)\nprint (\"The PythonSQL_CU13 container was succesfully created\")",
            "metadata": {},
            "outputs": [],
            "execution_count": 3
        },
        {
            "cell_type": "markdown",
            "source": "# 5- Check container status (Python)",
            "metadata": {}
        },
        {
            "cell_type": "code",
            "source": "# Importing docker library\nimport docker\n\n# Setting context to my container\ncontainer = client.containers.get('PythonSQL_CU13')\n\n# Checking status of PythonSQL container\nprint ('My container: ' + container.name + ' is in ' + container.status + ' state.')\n\n# Checking status of all containers\nclient.containers.list(all=True, filters={\"status\":\"running\"})",
            "metadata": {},
            "outputs": [],
            "execution_count": 3
        },
        {
            "cell_type": "markdown",
            "source": "# 6- Connect to CU13 and get version (SQL)",
            "metadata": {}
        },
        {
            "cell_type": "code",
            "source": "-- Checking SQL Server instance information\n-- 14.0.3048.4 = CU13\n-- 14.0.3076.1 = CU14\nSELECT\n    SERVERPROPERTY('MachineName') AS [Computer Name],\n    SERVERPROPERTY('ServerName') AS [Instance Name],\n    SERVERPROPERTY('ProductVersion') AS [Product Version],\n    SERVERPROPERTY('ProductUpdateLevel') AS [CU],\n    RIGHT(@@version, LEN(@@version)- 3 -charindex (' ON ', @@VERSION)) [OS Version],\n    SERVERPROPERTY ('Edition') AS [Edition]\nFROM sys.dm_os_sys_info;",
            "metadata": {},
            "outputs": [],
            "execution_count": 1
        },
        {
            "cell_type": "markdown",
            "source": "# 7- Restore WWI database from backup (SQL)",
            "metadata": {}
        },
        {
            "cell_type": "code",
            "source": "-- Checking existing databases\nSELECT name FROM sys.databases;\n\n-- Restore WWI backup\nRESTORE DATABASE WWI FROM DISK = '/Shared/wwi.bak' WITH\nMOVE 'WWI_Primary' TO '/var/opt/mssql/data/WideWorldImporters.mdf',\nMOVE 'WWI_UserData' TO '/var/opt/mssql/data/WideWorldImporters_userdata.ndf',\nMOVE 'WWI_Log' TO '/var/opt/mssql/data/WideWorldImporters.ldf', \nMOVE 'WWI_InMemory_Data_1' TO '/var/opt/mssql/data/WideWorldImporters_InMemory_Data_1';\n\n-- Looking for WWI database\nSELECT name FROM sys.databases;",
            "metadata": {},
            "outputs": [],
            "execution_count": 2
        },
        {
            "cell_type": "markdown",
            "source": "# 8- Stop and upgrade CU13 to CU14 (Python)",
            "metadata": {}
        },
        {
            "cell_type": "code",
            "source": "# Importing docker library\nimport docker\nclient = docker.from_env()\n\n# Setting context to my container\ncontainer = client.containers.get('PythonSQL_CU13')\n\n# Stopping PythonSQL\ncontainer.stop()\n\n# Creating Python_CU14 container (upgrade)\nclient.containers.run(\n        'mcr.microsoft.com/mssql/server:2017-CU14-ubuntu',\n        detach=True,\n        name=\"PythonSQL_CU14\",\n        hostname=\"PythonSQL_CU14\",\n        environment={\"ACCEPT_EULA\":\"Y\",\"MSSQL_SA_PASSWORD\":\"P1th0nR0ck$!\"},\n        volumes= \n        {'vlm_VersionUpgrade': {'bind': '/var/opt/mssql', 'mode': 'rw'},\n        '/Users/carlos/Documents/DBA Mastery/Shared': {'bind': '/Shared', 'mode': 'rw'}},\n        ports={'1433/tcp': 1401}\n)\nprint (\"The PythonSQL_CU14 container was succesfully created\")",
            "metadata": {},
            "outputs": [],
            "execution_count": 1
        },
        {
            "cell_type": "markdown",
            "source": "# 9- Check SQL Server errorlog (Python)",
            "metadata": {}
        },
        {
            "cell_type": "code",
            "source": "# Setting context to my container\ncontainer = client.containers.get('PythonSQL_CU14')\n\n# Checking the log\nfor line in container.logs(stream=True):\n    print (line.strip())\n",
            "metadata": {},
            "outputs": [],
            "execution_count": 2
        },
        {
            "cell_type": "markdown",
            "source": "# 10- Connect to CU14 and get version (SQL)",
            "metadata": {}
        },
        {
            "cell_type": "code",
            "source": "-- Checking SQL Server instance information\n-- 14.0.3048.4 = CU13\n-- 14.0.3076.1 = CU14\nSELECT\n    SERVERPROPERTY('MachineName') AS [Computer Name],\n    SERVERPROPERTY('ServerNameA') AS [Instance Name],\n    SERVERPROPERTY('ProductVersion') AS [Product Version],\n    SERVERPROPERTY('ProductUpdateLevel') AS [CU],\n    RIGHT(@@version, LEN(@@version)- 3 -charindex (' ON ', @@VERSION)) [OS Version],\n    SERVERPROPERTY ('Edition') AS [Edition];\n\n-- Looking for WWI database\nSELECT name FROM sys.databases;",
            "metadata": {},
            "outputs": [],
            "execution_count": 3
        },
        {
            "cell_type": "markdown",
            "source": "# Questions or comments?\n\n>In case you want to know more about how to use this notebook, feel free to contact me:\n\n- Twitter:    [@dbamastery](https://twitter.com/dbamastery)  \n- GitHub:    [dbamaster](https://github.com/dbamaster)  \n- Email:       <crobles@dbamastery.com> \n- Blog:        http://dbamastery.com\n",
            "metadata": {}
        }
    ]
}