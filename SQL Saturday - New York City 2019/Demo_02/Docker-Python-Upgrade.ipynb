{
    "metadata": {
        "kernelspec": {
            "name": "python3",
            "display_name": "Python 3"
        },
        "language_info": {
            "name": "python",
            "version": "3.6.6",
            "mimetype": "text/x-python",
            "codemirror_mode": {
                "name": "ipython",
                "version": 3
            },
            "pygments_lexer": "ipython3",
            "nbconvert_exporter": "python",
            "file_extension": ".py"
        }
    },
    "nbformat_minor": 2,
    "nbformat": 4,
    "cells": [
        {
            "cell_type": "markdown",
            "source": [
                "# [DBA Mastery](http://google.com)\n",
                "> **Just another witchcraft and wizardry site and DBA tips …**\n",
                "\n",
                "# Upgrading a SQL Server docker container using Python\n",
                "\n",
                "This notebook uses the Docker Python API to manage SQL Server container created in Docker, in this demo I will be upgrading a SQL Server instance from SQL Server 2017 CU15 to CU16.\n",
                "\n",
                "These are the steps:\n",
                "\n",
                "1. Checking SQL Server images in MCR **(optional)**  \n",
                "    * **Ubuntu based images**  \n",
                "    * **RHEL based images** \n",
                "2. Pull images **(optional)**\n",
                "3. Check images **(optional)**\n",
                "4. Create a SQL Server CU15 container **(using a local volume)**\n",
                "5. Check container status\n",
                "6. Connect to SQL Server CU15 container and get version\n",
                "7. Restore WWI database from backup\n",
                "8. Stop and upgrade SQL Server CU15 to CU16\n",
                "9. Check SQL Server errorlog\n",
                "10. Connect to SQL Server CU16 and get version"
            ],
            "metadata": {
                "azdata_cell_guid": "727112af-3423-4cec-86d5-a0b91af848ec"
            }
        },
        {
            "cell_type": "markdown",
            "source": [
                "# 1a- Checking SQL Server images in MCR - Ubuntu (Python)\n",
                "\n",
                ""
            ],
            "metadata": {
                "azdata_cell_guid": "a0c75885-ce1b-4200-8665-d08736650278"
            }
        },
        {
            "cell_type": "code",
            "source": [
                "\n",
                "# Importing HTTP requests library\n",
                "import requests\n",
                "\n",
                "# Listing available images at MCR for Ubuntu\n",
                "ubuntu_mcr_images = requests.get('https://mcr.microsoft.com/v2/mssql/server/tags/list/')\n",
                "\n",
                "# Displaying HTTP GET results\n",
                "print ('Ubuntu based images:')\n",
                "ubuntu_mcr_images.json()"
            ],
            "metadata": {
                "azdata_cell_guid": "cc2d684f-fe5b-48d3-a851-2fc19856e621"
            },
            "outputs": [],
            "execution_count": 1
        },
        {
            "cell_type": "markdown",
            "source": [
                "# 1b- Checking SQL Server images in MCR - RHEL (Python)"
            ],
            "metadata": {
                "azdata_cell_guid": "3a4f408f-4284-43dc-b7c8-88b9dbbc8c9d"
            }
        },
        {
            "cell_type": "code",
            "source": [
                "\n",
                "# Importing HTTP requests library\n",
                "import requests\n",
                "\n",
                "# Listing available images at MCR for RHEL\n",
                "rhel_mcr_images = requests.get('https://mcr.microsoft.com/v2/mssql/rhel/server/tags/list/')\n",
                "\n",
                "# Displaying HTTP GET results\n",
                "print ('RHEL based images:')\n",
                "rhel_mcr_images.json()"
            ],
            "metadata": {
                "azdata_cell_guid": "8ab723b5-bb0f-4557-811b-174d7200a843"
            },
            "outputs": [],
            "execution_count": 7
        },
        {
            "cell_type": "markdown",
            "source": [
                "# 2- Pull images (Python)"
            ],
            "metadata": {
                "azdata_cell_guid": "35d4bec8-a5cf-47f6-8a4e-c58cb1b04d9d"
            }
        },
        {
            "cell_type": "code",
            "source": [
                "# Importing docker library\n",
                "import docker\n",
                "client = docker.from_env()\n",
                "\n",
                "client.images.pull('mcr.microsoft.com/mssql/server:2017-CU15-ubuntu')\n",
                "print ('The SQL Server 2017 - Ubuntu CU15 image has been pulled')\n",
                "client.images.pull('mcr.microsoft.com/mssql/server:2017-CU16-ubuntu')\n",
                "print ('The SQL Server 2017 - Ubuntu CU16 image has been pulled')"
            ],
            "metadata": {
                "azdata_cell_guid": "f92caa69-e8a0-4d34-81e5-fb0a2e0adef9"
            },
            "outputs": [],
            "execution_count": 2
        },
        {
            "cell_type": "markdown",
            "source": [
                "# 3- Check images (Python)"
            ],
            "metadata": {
                "azdata_cell_guid": "85a9d6ed-fd74-4f05-bc95-623fc05199b2"
            }
        },
        {
            "cell_type": "code",
            "source": [
                "\n",
                "# Listing local images (Docker cache)\n",
                "client.images.list()\n",
                ""
            ],
            "metadata": {
                "azdata_cell_guid": "0e984eb0-7160-43d2-81b2-f83b17aeb233"
            },
            "outputs": [],
            "execution_count": 2
        },
        {
            "cell_type": "markdown",
            "source": [
                "# 4- Create SQL Server CU15 container (Python)"
            ],
            "metadata": {
                "azdata_cell_guid": "a176a906-b8f8-473e-8aa1-94e93082dfb1"
            }
        },
        {
            "cell_type": "code",
            "source": [
                "# Checking if existing \\ Cleaning up\n",
                "try:\n",
                "        container = client.containers.get('PythonSQL_CU15')\n",
                "        container.stop()\n",
                "        container.remove()\n",
                "        print ('The existing PythonSQL_CU15 container was removed ...')\n",
                "except:\n",
                "        print (\"The PythonSQL_CU15 container does not exists ...\")\n",
                "\n",
                "# Creating Python_CU15 container\n",
                "client.containers.run(\n",
                "        'mcr.microsoft.com/mssql/server:2017-CU15-ubuntu',\n",
                "        detach=True,\n",
                "        name=\"PythonSQL_CU15\",\n",
                "        hostname=\"PythonSQL_CU15\",\n",
                "        environment={\"ACCEPT_EULA\":\"Y\",\"MSSQL_SA_PASSWORD\":\"P1th0nR0ck$!\"},\n",
                "        volumes= \n",
                "        {'vlm_VersionUpgrade': {'bind': '/var/opt/mssql', 'mode': 'rw'},\n",
                "        '/Users/carlos/Documents/DBA Mastery/Talks-Presentations/Containers/SQLSat912': {'bind': '/Shared', 'mode': 'rw'}},\n",
                "        ports={'1433/tcp': 1401}\n",
                ")\n",
                "print (\"The PythonSQL_CU15 container was succesfully created\")"
            ],
            "metadata": {
                "azdata_cell_guid": "41f8c73d-8402-440e-abaa-0dd82e72012a"
            },
            "outputs": [],
            "execution_count": 3
        },
        {
            "cell_type": "markdown",
            "source": [
                "# 5- Check container status (Python)"
            ],
            "metadata": {
                "azdata_cell_guid": "a4219acd-67b0-4ba5-b230-657c3ccb1e82"
            }
        },
        {
            "cell_type": "code",
            "source": [
                "# Importing docker library\n",
                "import docker\n",
                "\n",
                "# Setting context to my container\n",
                "container = client.containers.get('PythonSQL_CU15')\n",
                "\n",
                "# Checking status of PythonSQL container\n",
                "print ('My container: ' + container.name + ' is in ' + container.status + ' state.')\n",
                "\n",
                "# Checking status of all containers\n",
                "client.containers.list(all=True, filters={\"status\":\"running\"})"
            ],
            "metadata": {
                "azdata_cell_guid": "5030fbbf-8ad5-459e-b8f5-6433ee235fc8"
            },
            "outputs": [],
            "execution_count": 3
        },
        {
            "cell_type": "markdown",
            "source": [
                "# 6- Connect to SQL Server CU15 and get version (SQL)"
            ],
            "metadata": {
                "azdata_cell_guid": "c821fc97-8ae3-4aac-9fe0-e0190a718f6a"
            }
        },
        {
            "cell_type": "code",
            "source": [
                "-- Checking SQL Server instance information\n",
                "-- 14.0.3162.1 = CU15\n",
                "-- 14.0.3223.3 = CU16\n",
                "SELECT\n",
                "    SERVERPROPERTY('MachineName') AS [Computer Name],\n",
                "    SERVERPROPERTY('ServerName') AS [Instance Name],\n",
                "    SERVERPROPERTY('ProductVersion') AS [Product Version],\n",
                "    SERVERPROPERTY('ProductUpdateLevel') AS [CU],\n",
                "    RIGHT(@@version, LEN(@@version)- 3 -charindex (' ON ', @@VERSION)) [OS Version],\n",
                "    SERVERPROPERTY ('Edition') AS [Edition]\n",
                "FROM sys.dm_os_sys_info;"
            ],
            "metadata": {
                "azdata_cell_guid": "614f0d1d-7c9f-46d4-83df-2de9c049c41f"
            },
            "outputs": [],
            "execution_count": 1
        },
        {
            "cell_type": "markdown",
            "source": [
                "# 7- Restore WWI database from backup (SQL)"
            ],
            "metadata": {
                "azdata_cell_guid": "b136e214-6b45-41a8-943c-d3948148baff"
            }
        },
        {
            "cell_type": "code",
            "source": [
                "-- Checking existing databases\n",
                "SELECT name FROM sys.databases;\n",
                "\n",
                "-- Restore WWI backup\n",
                "RESTORE DATABASE WWI FROM DISK = '/Shared/wwi.bak' WITH\n",
                "MOVE 'WWI_Primary' TO '/var/opt/mssql/data/WideWorldImporters.mdf',\n",
                "MOVE 'WWI_UserData' TO '/var/opt/mssql/data/WideWorldImporters_userdata.ndf',\n",
                "MOVE 'WWI_Log' TO '/var/opt/mssql/data/WideWorldImporters.ldf', \n",
                "MOVE 'WWI_InMemory_Data_1' TO '/var/opt/mssql/data/WideWorldImporters_InMemory_Data_1';\n",
                "\n",
                "-- Looking for WWI database\n",
                "SELECT name FROM sys.databases;"
            ],
            "metadata": {
                "azdata_cell_guid": "de3cb7d0-76bd-44b7-ad1f-70b2e991357b"
            },
            "outputs": [],
            "execution_count": 2
        },
        {
            "cell_type": "markdown",
            "source": [
                "# 8- Stop and upgrade SQL Server from CU15 to CU16 (Python)"
            ],
            "metadata": {
                "azdata_cell_guid": "276a8249-6194-4b4e-9684-e16bf346b78d"
            }
        },
        {
            "cell_type": "code",
            "source": [
                "# Importing docker library\n",
                "import docker\n",
                "client = docker.from_env()\n",
                "\n",
                "# Setting context to my container\n",
                "container = client.containers.get('PythonSQL_CU15')\n",
                "\n",
                "# Stopping PythonSQL\n",
                "container.stop()\n",
                "\n",
                "# Creating Python_CU16 container (upgrade)\n",
                "client.containers.run(\n",
                "        'mcr.microsoft.com/mssql/server:2017-CU16-ubuntu',\n",
                "        detach=True,\n",
                "        name=\"PythonSQL_CU16\",\n",
                "        hostname=\"PythonSQL_CU16\",\n",
                "        environment={\"ACCEPT_EULA\":\"Y\",\"MSSQL_SA_PASSWORD\":\"P1th0nR0ck$!\"},\n",
                "        volumes= \n",
                "        {'vlm_VersionUpgrade': {'bind': '/var/opt/mssql', 'mode': 'rw'},\n",
                "        '/Users/carlos/Documents/DBA Mastery/Talks-Presentations/Containers/SQLSat912': {'bind': '/Shared', 'mode': 'rw'}},\n",
                "        ports={'1433/tcp': 1401}\n",
                ")\n",
                "print (\"The PythonSQL_CU16 container was succesfully created\")"
            ],
            "metadata": {
                "azdata_cell_guid": "b6088d91-a6c7-40aa-b2ac-c76ab5e28ed3"
            },
            "outputs": [],
            "execution_count": 1
        },
        {
            "cell_type": "markdown",
            "source": [
                "# 9- Check SQL Server errorlog (Python)"
            ],
            "metadata": {
                "azdata_cell_guid": "9cb2e101-dd3d-47bb-9ff7-9401fdfe2b07"
            }
        },
        {
            "cell_type": "code",
            "source": [
                "# Setting context to my container\n",
                "container = client.containers.get('PythonSQL_CU16')\n",
                "\n",
                "# Checking the log\n",
                "for line in container.logs(stream=True):\n",
                "    print (line.strip())\n",
                ""
            ],
            "metadata": {
                "azdata_cell_guid": "cb8b1ad7-4a5c-47e7-8a06-a42f0cc4259c"
            },
            "outputs": [],
            "execution_count": 2
        },
        {
            "cell_type": "markdown",
            "source": [
                "# 10- Connect to SQL Server CU16 and get version (SQL)"
            ],
            "metadata": {
                "azdata_cell_guid": "a8449092-c76e-46c9-9b21-c333ba866c2a"
            }
        },
        {
            "cell_type": "code",
            "source": [
                "-- Checking SQL Server instance information\n",
                "-- 14.0.3162.1 = CU15\n",
                "-- 14.0.3223.3 = CU16\n",
                "SELECT\n",
                "    SERVERPROPERTY('MachineName') AS [Computer Name],\n",
                "    SERVERPROPERTY('ServerNameA') AS [Instance Name],\n",
                "    SERVERPROPERTY('ProductVersion') AS [Product Version],\n",
                "    SERVERPROPERTY('ProductUpdateLevel') AS [CU],\n",
                "    RIGHT(@@version, LEN(@@version)- 3 -charindex (' ON ', @@VERSION)) [OS Version],\n",
                "    SERVERPROPERTY ('Edition') AS [Edition];\n",
                "\n",
                "-- Looking for WWI database\n",
                "SELECT name FROM sys.databases;"
            ],
            "metadata": {
                "azdata_cell_guid": "09a2eae9-eb1b-42d5-8b6d-8146a7ec46e6"
            },
            "outputs": [],
            "execution_count": 3
        },
        {
            "cell_type": "markdown",
            "source": [
                "# Questions or comments?\n",
                "\n",
                ">In case you want to know more about how to use this notebook, feel free to contact me: \n",
                "\n",
                "* Twitter:   [@dbamastery](https://twitter.com/dbamastery)\n",
                "* GitHub:    [dbamaster](https://github.com/dbamaster)\n",
                "* Email:      <crobles@dbamastery.com>\n",
                "* Blog:        http://dbamastery.com\n",
                ""
            ],
            "metadata": {
                "azdata_cell_guid": "94a40888-0cc9-4194-862b-d989d9d58e5c"
            }
        }
    ]
}