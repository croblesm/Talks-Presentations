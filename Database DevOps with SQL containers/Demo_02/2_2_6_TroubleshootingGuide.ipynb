{
    "metadata": {
        "kernelspec": {
            "name": "SQL",
            "display_name": "SQL",
            "language": "sql"
        },
        "language_info": {
            "name": "sql",
            "version": ""
        }
    },
    "nbformat_minor": 2,
    "nbformat": 4,
    "cells": [
        {
            "cell_type": "markdown",
            "source": [
                "# [DBA Mastery](http://dbamastery.com)\n",
                "> **Just another witchcraft and wizardry site and DBA tips …**\n",
                "\n",
                "## Troubleshooting guide\n",
                "\n",
                "This notebook uses all open source SQL Server monitoring tools installed on the \"DBA\" database. For questions or comments please contact your DBA team.\n",
                "\n",
                "These are the steps:\n",
                "\n",
                "- **1- Current activity:** Execute the code to learn more about what is going on in SQL Server\n",
                "- **2- Long running queries:** Execute the code to find blocking \\ locking\n",
                "- **3- Send results:** Save this notebook and send it to your DBA team  **(optional)**"
            ],
            "metadata": {
                "azdata_cell_guid": "2fab1d9f-485a-4ab8-b611-82c8f567ef13"
            }
        },
        {
            "cell_type": "markdown",
            "source": [
                "## 1- Current activity\n",
                "> Do not forget to change the @filter parameter"
            ],
            "metadata": {
                "azdata_cell_guid": "e95a8842-c7c8-4590-b0c5-78d15cd9b08f"
            }
        },
        {
            "cell_type": "code",
            "source": [
                "\n",
                "EXEC DBA.dbo.sp_WhoIsActive\n",
                "@output_column_list = '[session_id][database_name][login_name][program_name][sql_text][percent_complete]';\n",
                ""
            ],
            "metadata": {
                "azdata_cell_guid": "680216dc-c5e5-47be-8a3e-586271d3bfb8"
            },
            "outputs": [],
            "execution_count": null
        },
        {
            "cell_type": "markdown",
            "source": [
                "## 3- Long running queries"
            ],
            "metadata": {
                "azdata_cell_guid": "77c78fcf-df5a-4d55-bb62-5a8610e793bb"
            }
        },
        {
            "cell_type": "code",
            "source": [
                "EXEC DBA.dbo.sp_WhoIsActive\n",
                "        @find_block_leaders = 1\n",
                "        ,@filter_type = 'database'\n",
                "        ,@filter = 'HumanResources'\n",
                "        ,@get_plans = 1\n",
                "        ,@get_task_info = 1\n",
                "        ,@get_additional_info = 1\n",
                "        ,@sort_order = '[blocked_session_count] desc'\n",
                "        ,@output_column_list = '[session_id][database_name][login_name][program_name][sql_text][percent_complete][blocking_session_id][blocked_session_count]';"
            ],
            "metadata": {
                "azdata_cell_guid": "ae14bd3b-6dd2-4bb5-877d-dc6d5b338330"
            },
            "outputs": [],
            "execution_count": null
        },
        {
            "cell_type": "markdown",
            "source": [
                "## 4- Save results\n",
                "Save this notebook and send it to your DBA team  **(optional)**"
            ],
            "metadata": {
                "azdata_cell_guid": "c40a2095-5c96-445d-a73a-bf443e874a4d"
            }
        },
        {
            "cell_type": "markdown",
            "source": [
                "# Questions or comments?\n",
                "\n",
                ">In case you want to know more about how to use this notebook, feel free to contact me:\n",
                "\n",
                "- Twitter:    [@dbamastery](https://twitter.com/dbamastery)  \n",
                "- GitHub:    [dbamaster](https://github.com/dbamaster)  \n",
                "- Email:       <crobles@dbamastery.com> \n",
                "- Blog:        http://dbamastery.com"
            ],
            "metadata": {
                "azdata_cell_guid": "da14b5ea-506a-49ac-9e2e-740ad2636ba7"
            }
        }
    ]
}